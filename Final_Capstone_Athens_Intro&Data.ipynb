{
 "cells": [
  {
   "cell_type": "markdown",
   "metadata": {},
   "source": [
    "# Athens Fine Dining"
   ]
  },
  {
   "cell_type": "markdown",
   "metadata": {},
   "source": [
    "## 1.0 Introduction"
   ]
  },
  {
   "cell_type": "markdown",
   "metadata": {},
   "source": [
    "### 1.1 Descritpion of the case"
   ]
  },
  {
   "cell_type": "markdown",
   "metadata": {},
   "source": [
    "The area of interest in this porject is the capital of Greece, *Athens*. After a serious fiscal distress due to the global \n",
    "economic crisis of 2008-2010, the country of Greece is trying to \"rebound\" financially and in terms of investments. In this report we aim to utilize and leverage the Foursquare location data in order to evaluate the Food & Drinks (F&D) Sector in the capital of Athens, Greece. The initiative of this project derives from two facts, a) Athens is one of the most prolific tourism capitals in the world [(Source)](https://www.greece-is.com/why-athens-is-becoming-a-top-city-break-destination/), b) there is a distinct trend of new investments [(Source)](https://www.greece-is.com/the-great-promise-of-the-greek-food-and-drinks-industry/) in the F&D sector in order to capitalize the increased levels of tourism traffic. Even though the sector seems to flourish, the segment of “fine-dinning” is considered to be of increased risk as the owners are worried of steady revenues due to the fact that the majority of their clients are tourists and not natives.\n",
    "Due to data-restrictions and in order to implement the “dimension” of tourism in the case, we enhance our approach through the integration of AirBNB data which will aim to correlate with our findings.\n",
    "\n",
    "![Athens, Attice Greece](https://image.jimcdn.com/app/cms/image/transf/dimension=1920x400:format=jpg/path/sa6549607c78f5c11/image/idda1a5d403266aac/version/1457281742/image.jpg)\n",
    "\n"
   ]
  },
  {
   "cell_type": "markdown",
   "metadata": {},
   "source": [
    "### 1.2 Objectives of the case"
   ]
  },
  {
   "cell_type": "markdown",
   "metadata": {},
   "source": [
    "We aim to approach the subject through the prism of two objectives:\n",
    "\n",
    "1.\tEvaluate the distribution of “fine-dinning and drinking” initiatives in the city\n",
    "2.\tProvide a clear suggestion towards new investors in order for them to approach any new investment plans in the sector.\n"
   ]
  },
  {
   "cell_type": "markdown",
   "metadata": {},
   "source": [
    "## 2.0 Introduction"
   ]
  },
  {
   "cell_type": "markdown",
   "metadata": {},
   "source": [
    "### 2.1 Description of the data and how it will be used to solve the problem"
   ]
  },
  {
   "cell_type": "markdown",
   "metadata": {},
   "source": [
    "The utilized data-sets for the project will be of three origins:\n",
    "\n",
    "1.\tThe segmentation of Athens City will come from the following Wiki [page](https://en.wikipedia.org/wiki/Athens_Prefecture)\n",
    "2.\tThe Venue Related data will come from the FourSquare API\n",
    "3.\tThe identification of the most recent expensive AirBNB places in Athens will come from [Inside AirBNB](http://insideairbnb.com/get-the-data.html)\n",
    "4. The coordinates of the locations will come from the Open Street Map data base through the implementation of the tool *Nominatim* "
   ]
  },
  {
   "cell_type": "code",
   "execution_count": null,
   "metadata": {},
   "outputs": [],
   "source": []
  },
  {
   "cell_type": "code",
   "execution_count": null,
   "metadata": {},
   "outputs": [],
   "source": []
  }
 ],
 "metadata": {
  "kernelspec": {
   "display_name": "Python 3",
   "language": "python",
   "name": "python3"
  },
  "language_info": {
   "codemirror_mode": {
    "name": "ipython",
    "version": 3
   },
   "file_extension": ".py",
   "mimetype": "text/x-python",
   "name": "python",
   "nbconvert_exporter": "python",
   "pygments_lexer": "ipython3",
   "version": "3.7.4"
  }
 },
 "nbformat": 4,
 "nbformat_minor": 4
}
